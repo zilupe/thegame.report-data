{
 "cells": [
  {
   "cell_type": "code",
   "execution_count": null,
   "metadata": {},
   "outputs": [],
   "source": [
    "# To generate a PDF out of this, run:\n",
    "# jupyter nbconvert --to pdf --template notebooks/hidecode notebooks/top5.ipynb"
   ]
  },
  {
   "cell_type": "code",
   "execution_count": null,
   "metadata": {
    "pycharm": {
     "is_executing": false
    }
   },
   "outputs": [],
   "source": [
    "from pathlib import Path\n",
    "\n",
    "import pandas as pd\n",
    "from IPython.display import display, Markdown\n",
    "\n",
    "\n",
    "raw_data_dir = Path(\"../../raw_data\")\n",
    "reports_dir = Path(\"../../reports\")\n",
    "season_id = 25\n",
    "\n",
    "season_raw_data_dir = raw_data_dir / f\"season{season_id}\"\n",
    "season_reports_dir = reports_dir / f\"season{season_id}\"\n",
    "\n",
    "pl = pd.read_csv(season_raw_data_dir / \"player_logs.csv\")\n",
    "\n",
    "stats_enabled = [\n",
    "    \"pts\",\n",
    "    \"fgm\",\n",
    "    \"fga\",\n",
    "#     \"fg%\",\n",
    "    \"3pm\",\n",
    "    \"3pa\",\n",
    "#     \"3p%\",\n",
    "    \"ftm\",\n",
    "    \"fta\",\n",
    "#     \"ft%\",\n",
    "    \"oreb\",\n",
    "    \"dreb\",\n",
    "    \"reb\",\n",
    "    \"ast\",\n",
    "    \"stl\",\n",
    "    \"tov\",\n",
    "    \"blk\",\n",
    "    \"blka\",\n",
    "    \"fc\",\n",
    "    \"fd\",\n",
    "    \"pir\",\n",
    "]\n",
    "\n",
    "stats_groups = [\n",
    "    [\"pir\", \"Performance Index Rating\", (\"pts\", \"reb\", \"ast\", \"tov\", \"stl\", \"blk\", \"fc\")],\n",
    "#     [\"pts\", \"Points\", (\"fgm\", \"fga\", \"3pm\", \"3pa\", \"ftm\", \"fta\")],\n",
    "    [\"pts\", \"Points\", (\"fgm\", \"fga\", \"3pm\", \"3pa\", \"ftm\", \"fta\")],\n",
    "    [\"reb\", \"Rebounds\", (\"oreb\", \"dreb\")],\n",
    "    [\"oreb\", \"Offensive Rebounds\", (\"dreb\", \"reb\")],\n",
    "    [\"ast\", \"Assists\", (\"tov\",)],\n",
    "    [\"stl\", \"Steals\", (\"tov\", \"fc\")],\n",
    "    [\"blk\", \"Blocks\", ()],\n",
    "#     [\"fg%\", \"Field Goal Percentage\", (\"fgm\", \"fga\")],\n",
    "#     [\"3p%\", \"Three Point Shot Percentage\", (\"3pm\", \"3pa\")],\n",
    "#     [\"ft%\", \"Free Throw Percentage\", (\"ftm\", \"fta\")],\n",
    "    [\"tov\", \"Turnovers\", ()],\n",
    "    [\"fc\", \"Fouls Committed\", (\"fd\",)],\n",
    "#     [\"fd\", \"Fouls Drawn\", ()],\n",
    "]\n"
   ]
  },
  {
   "cell_type": "code",
   "execution_count": null,
   "metadata": {
    "pycharm": {
     "is_executing": false
    }
   },
   "outputs": [],
   "source": [
    "def fix_column_names(name):\n",
    "    if name.endswith(\"_name\"):\n",
    "        name = name[:-5]\n",
    "    return name.upper()\n",
    "\n",
    "\n",
    "player_totals = []\n",
    "for (team_id, player_id, player_gender), group in pl.groupby([\"team_id\", \"player_id\", \"player_gender\"]):\n",
    "    pt = {\n",
    "        \"team_id\": team_id,\n",
    "        \"team_name\": group[\"team_name\"].iloc[0],\n",
    "        \"player_id\": player_id,\n",
    "        \"player_gender\": player_gender,\n",
    "        \"player_name\": group[\"player_name\"].iloc[0],\n",
    "        **{s: group[s].sum() for s in stats_enabled},\n",
    "        **{f\"{s}_avg\": group[s].mean() for s in stats_enabled},\n",
    "    }\n",
    "    player_totals.append(pt)\n",
    "\n",
    "team_totals = []\n",
    "for team_id, group in pl.groupby(\"team_id\"):\n",
    "    tt = {\n",
    "        \"team_id\": team_id,\n",
    "        \"team_name\": group[\"team_name\"].iloc[0],\n",
    "        **{s: group[s].sum() for s in stats_enabled},\n",
    "        **{f\"{s}_avg\": group[s].mean() for s in stats_enabled},\n",
    "    }\n",
    "    team_totals.append(tt)\n",
    "    \n",
    "ptdf = pd.DataFrame(player_totals)\n",
    "ttdf = pd.DataFrame(team_totals)\n",
    "\n",
    "for sort_field, title, other_fields in stats_groups:\n",
    "    display(Markdown(f\"## {title}\"))\n",
    "    \n",
    "    teams_sorted_by_field = ttdf.sort_values(\n",
    "        [sort_field, *other_fields],\n",
    "        ascending=[False, *(False for _ in other_fields)],\n",
    "    )\n",
    "    top8_by_field = teams_sorted_by_field[[\"team_name\", sort_field, *other_fields]].head(8)\n",
    "    top8_by_field.reset_index(drop=True, inplace=True)\n",
    "    top8_by_field.index += 1\n",
    "    top8_by_field.columns = map(fix_column_names, top8_by_field.columns)\n",
    "    display(top8_by_field)\n",
    "\n",
    "    for gender in (\"f\", \"m\"):\n",
    "        this_gender = ptdf[\"player_gender\"] == gender\n",
    "        sorted_by_field = ptdf[this_gender].sort_values(\n",
    "            [sort_field, *other_fields],\n",
    "            ascending=[False, *(False for _ in other_fields)],\n",
    "        )\n",
    "        top5_by_field = sorted_by_field[[\"player_name\", \"team_name\", sort_field, *other_fields]].head(5)\n",
    "        top5_by_field.reset_index(drop=True, inplace=True)\n",
    "        top5_by_field.index += 1\n",
    "        top5_by_field.columns = map(fix_column_names, top5_by_field.columns)\n",
    "        display(top5_by_field)\n"
   ]
  },
  {
   "cell_type": "code",
   "execution_count": null,
   "metadata": {},
   "outputs": [],
   "source": []
  }
 ],
 "metadata": {
  "kernelspec": {
   "display_name": "Python 3",
   "language": "python",
   "name": "python3"
  },
  "language_info": {
   "codemirror_mode": {
    "name": "ipython",
    "version": 3
   },
   "file_extension": ".py",
   "mimetype": "text/x-python",
   "name": "python",
   "nbconvert_exporter": "python",
   "pygments_lexer": "ipython3",
   "version": "3.7.3"
  },
  "pycharm": {
   "stem_cell": {
    "cell_type": "raw",
    "metadata": {
     "collapsed": false
    },
    "source": []
   }
  }
 },
 "nbformat": 4,
 "nbformat_minor": 2
}
