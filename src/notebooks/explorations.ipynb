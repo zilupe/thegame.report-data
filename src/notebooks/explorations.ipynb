{
 "cells": [
  {
   "cell_type": "code",
   "execution_count": null,
   "metadata": {},
   "outputs": [],
   "source": [
    "from pathlib import Path\n",
    "\n",
    "import pandas as pd\n",
    "\n",
    "\n",
    "reports_dir = Path(\"../../reports\")"
   ]
  },
  {
   "cell_type": "code",
   "execution_count": null,
   "metadata": {},
   "outputs": [],
   "source": [
    "player_logs = pd.read_csv(reports_dir / \"player_logs.csv\")"
   ]
  },
  {
   "cell_type": "code",
   "execution_count": null,
   "metadata": {},
   "outputs": [],
   "source": [
    "team_logs = pd.read_csv(reports_dir / \"team_logs.csv\")"
   ]
  },
  {
   "cell_type": "code",
   "execution_count": null,
   "metadata": {},
   "outputs": [],
   "source": [
    "# Add \"outcome\" column\n",
    "team_logs.loc[team_logs.pts > team_logs.opponent_pts, \"outcome\"] = \"W\"  # win\n",
    "team_logs.loc[team_logs.pts == team_logs.opponent_pts, \"outcome\"] = \"T\"  # tie\n",
    "team_logs.loc[team_logs.pts < team_logs.opponent_pts, \"outcome\"] = \"D\"  # defeat"
   ]
  },
  {
   "cell_type": "code",
   "execution_count": null,
   "metadata": {},
   "outputs": [],
   "source": [
    "# To compare the efffect of a player's presence vs absence, we need to know all players who have played for a team\n",
    "# in a season. We create a column for each player and put a \"Y\" if they played that game for the particular team\n",
    "# or \"OPP\" if they were the opponent\n",
    "\n",
    "# First initialise all values to \"N\"\n",
    "for player_id in player_logs[\"player_id\"].unique():\n",
    "    team_logs[f\"p_{player_id.replace('-', '_')}\"] = \"N\"\n",
    "\n",
    "for (game_id, team_id), group in player_logs.groupby([\"game_id\", \"team_id\"]):\n",
    "    is_this_team = (team_logs.game_id == game_id) & (team_logs.team_id == team_id)\n",
    "    is_other_team = (team_logs.game_id == game_id) & (team_logs.opponent_id == team_id)\n",
    "    for player_id in group[\"player_id\"]:\n",
    "        player_id_column = f\"p_{player_id.replace('-', '_')}\"\n",
    "        team_logs.loc[is_this_team, player_id_column] = \"Y\"\n",
    "        team_logs.loc[is_other_team, player_id_column] = \"OPP\""
   ]
  },
  {
   "cell_type": "code",
   "execution_count": null,
   "metadata": {},
   "outputs": [],
   "source": [
    "# Write output\n",
    "team_logs.to_csv(\n",
    "    reports_dir / \"team_logs_with_players.csv\",\n",
    "    float_format=\"%.2f\",\n",
    "    index=False,\n",
    ")"
   ]
  },
  {
   "cell_type": "code",
   "execution_count": null,
   "metadata": {},
   "outputs": [],
   "source": [
    "x_factors = []\n",
    "for player_id in player_logs[\"player_id\"].unique():\n",
    "    player_column = f\"p_{player_id.replace('-', '_')}\"\n",
    "    players_teams = player_logs[player_logs.player_id == player_id][\"team_id\"].unique()\n",
    "    for team_id in players_teams:\n",
    "        report = {\n",
    "            \"player_id\": player_id,\n",
    "            \"team_id\": team_id,\n",
    "        }\n",
    "        for yes_or_no, group in team_logs[team_logs.team_id == team_id].groupby([player_column]):\n",
    "            if yes_or_no == \"OPP\":\n",
    "                continue\n",
    "            yes_or_no = yes_or_no.lower()\n",
    "            report.update({\n",
    "                f\"{yes_or_no}_num_games\": len(group.index),\n",
    "                f\"{yes_or_no}_defensive_eff\": group[\"defensive_eff\"].mean(),\n",
    "                f\"{yes_or_no}_offensive_eff\": group[\"offensive_eff\"].mean(),\n",
    "                f\"{yes_or_no}_possessions\": group[\"possessions\"].mean(),\n",
    "                f\"{yes_or_no}_ast_total\": group[\"ast\"].sum(),\n",
    "                f\"{yes_or_no}_tov_total\": group[\"tov\"].sum(),\n",
    "            })\n",
    "        x_factors.append(report)\n",
    "\n",
    "x_factors = pd.DataFrame(x_factors)\n",
    "\n",
    "x_factors[\"defensive_eff_improv\"] = x_factors[\"n_defensive_eff\"] - x_factors[\"y_defensive_eff\"]\n",
    "x_factors[\"offensive_eff_improv\"] = x_factors[\"y_offensive_eff\"] - x_factors[\"n_offensive_eff\"]\n",
    "x_factors[\"possessions_increase\"] = x_factors[\"y_possessions\"] - x_factors[\"n_possessions\"]\n",
    "x_factors[\"ast_tov_ratio_increase\"] = (\n",
    "    (x_factors[\"y_ast_total\"] / x_factors[\"y_tov_total\"])\n",
    "    - (x_factors[\"n_ast_total\"] / x_factors[\"n_tov_total\"])\n",
    ")\n",
    "\n",
    "x_factors[\"games_with\"] = x_factors[\"y_num_games\"]\n",
    "x_factors[\"games_without\"] = x_factors[\"n_num_games\"]\n",
    "\n",
    "\n",
    "columns = [\n",
    "    \"player_id\", \"team_id\",\n",
    "    \"games_with\", \"games_without\",\n",
    "    \"defensive_eff_improv\", \"offensive_eff_improv\",\n",
    "    \"possessions_increase\", \"ast_tov_ratio_increase\",\n",
    "]\n",
    "\n",
    "# Exclude players who have played less than 2 games or have been away for less than 2 games\n",
    "at_least_two_games = (x_factors.games_with >= 2) & (x_factors.games_without >= 2)\n",
    "\n",
    "\n",
    "# Sort\n",
    "x_factors = x_factors[at_least_two_games].sort_values(\n",
    "    [\"defensive_eff_improv\", \"offensive_eff_improv\"],\n",
    "    ascending=[False, False],\n",
    ")\n",
    "\n",
    "\n",
    "# Write output\n",
    "x_factors.to_csv(\n",
    "    reports_dir / \"x_factors.csv\",\n",
    "    float_format=\"%.2f\",\n",
    "    columns=columns,\n",
    "    index=False,\n",
    ")"
   ]
  },
  {
   "cell_type": "code",
   "execution_count": null,
   "metadata": {},
   "outputs": [],
   "source": [
    "\n",
    "# Player who has played for most teams\n",
    "\n",
    "players = []\n",
    "for player_id, group in player_logs.groupby([\"player_id\"]):\n",
    "    num_teams = group[\"team_id\"].unique().size\n",
    "    players.append({\n",
    "        \"player_id\": player_id,\n",
    "        \"num_teams\": num_teams,\n",
    "    })\n",
    "\n",
    "players = pd.DataFrame(players)\n",
    "at_least_two = players[\"num_teams\"] >= 2\n",
    "players[at_least_two].sort_values([\"num_teams\"], ascending=[False]).head(30)\n"
   ]
  },
  {
   "cell_type": "code",
   "execution_count": null,
   "metadata": {},
   "outputs": [],
   "source": [
    "player_logs[\"pir_enth_ratio\"] = player_logs[\"pir\"] / player_logs[\"enthusiasm_rating\"]\n",
    "filtered = player_logs[\"pir\"] >= 5\n",
    "player_logs[filtered].sort_values([\"pir_enth_ratio\"], ascending=[False])[\n",
    "    [\"game_id\", \"player_id\", \"team_id\", \"opponent_id\", \"enthusiasm_rating\", \"pir\", \"pir_enth_ratio\"]\n",
    "].head(20)"
   ]
  },
  {
   "cell_type": "code",
   "execution_count": null,
   "metadata": {},
   "outputs": [],
   "source": [
    "player_logs.sort_values([\"enthusiasm_rating\"], ascending=[False])[\n",
    "    [\"game_id\", \"player_id\", \"team_id\", \"opponent_id\", \"enthusiasm_rating\", \"pir\"]\n",
    "].head(20)"
   ]
  }
 ],
 "metadata": {
  "kernelspec": {
   "display_name": "Python 3",
   "language": "python",
   "name": "python3"
  },
  "language_info": {
   "codemirror_mode": {
    "name": "ipython",
    "version": 3
   },
   "file_extension": ".py",
   "mimetype": "text/x-python",
   "name": "python",
   "nbconvert_exporter": "python",
   "pygments_lexer": "ipython3",
   "version": "3.7.3"
  }
 },
 "nbformat": 4,
 "nbformat_minor": 2
}
