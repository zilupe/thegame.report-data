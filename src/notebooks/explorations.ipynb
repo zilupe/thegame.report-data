{
 "cells": [
  {
   "cell_type": "code",
   "execution_count": null,
   "metadata": {},
   "outputs": [],
   "source": [
    "from pathlib import Path\n",
    "\n",
    "import pandas as pd\n",
    "\n",
    "\n",
    "reports_dir = Path(\"../../reports\")"
   ]
  },
  {
   "cell_type": "code",
   "execution_count": null,
   "metadata": {},
   "outputs": [],
   "source": [
    "player_logs = pd.read_csv(reports_dir / \"player_logs.csv\")"
   ]
  },
  {
   "cell_type": "code",
   "execution_count": null,
   "metadata": {},
   "outputs": [],
   "source": [
    "team_logs = pd.read_csv(reports_dir / \"team_logs.csv\")"
   ]
  },
  {
   "cell_type": "code",
   "execution_count": null,
   "metadata": {},
   "outputs": [],
   "source": [
    "# Add \"outcome\" column\n",
    "team_logs.loc[team_logs.pts > team_logs.opponent_pts, \"outcome\"] = \"W\"  # win\n",
    "team_logs.loc[team_logs.pts == team_logs.opponent_pts, \"outcome\"] = \"T\"  # tie\n",
    "team_logs.loc[team_logs.pts < team_logs.opponent_pts, \"outcome\"] = \"D\"  # defeat"
   ]
  },
  {
   "cell_type": "code",
   "execution_count": null,
   "metadata": {},
   "outputs": [],
   "source": [
    "# To compare the efffect of a player's presence vs absence, we need to know all players who have played for a team\n",
    "# in a season. We create a column for each player and put a \"Y\" if they played that game for the particular team\n",
    "# or \"OPP\" if they were the opponent\n",
    "\n",
    "for (game_id, team_id), group in player_logs.groupby([\"game_id\", \"team_id\"]):\n",
    "    is_this_team = (team_logs.game_id == game_id) & (team_logs.team_id == team_id)\n",
    "    is_other_team = (team_logs.game_id == game_id) & (team_logs.opponent_id == team_id)\n",
    "    for player_id in group[\"player_id\"]:\n",
    "        player_id_column = f\"p_{player_id.replace('-', '_')}\"\n",
    "        team_logs.loc[is_this_team, player_id_column] = \"Y\"\n",
    "        team_logs.loc[is_other_team, player_id_column] = \"OPP\""
   ]
  },
  {
   "cell_type": "code",
   "execution_count": null,
   "metadata": {},
   "outputs": [],
   "source": [
    "# Write output\n",
    "team_logs.to_csv(reports_dir / \"team_logs_with_players.csv\")"
   ]
  },
  {
   "cell_type": "code",
   "execution_count": null,
   "metadata": {},
   "outputs": [],
   "source": [
    "\n",
    "# Player who has played for most teams\n",
    "\n",
    "players = []\n",
    "for player_id, group in player_logs.groupby([\"player_id\"]):\n",
    "    num_teams = group[\"team_id\"].unique().size\n",
    "    players.append({\n",
    "        \"player_id\": player_id,\n",
    "        \"num_teams\": num_teams,\n",
    "    })\n",
    "\n",
    "players = pd.DataFrame(players)\n",
    "at_least_two = players[\"num_teams\"] >= 2\n",
    "players[at_least_two].sort_values([\"num_teams\"], ascending=[False]).head(30)\n"
   ]
  },
  {
   "cell_type": "code",
   "execution_count": null,
   "metadata": {},
   "outputs": [],
   "source": [
    "player_logs[\"pir_enth_ratio\"] = player_logs[\"pir\"] / player_logs[\"enthusiasm_rating\"]\n",
    "filtered = player_logs[\"pir\"] >= 5\n",
    "player_logs[filtered].sort_values([\"pir_enth_ratio\"], ascending=[False])[\n",
    "    [\"game_id\", \"player_id\", \"team_id\", \"opponent_id\", \"enthusiasm_rating\", \"pir\", \"pir_enth_ratio\"]\n",
    "].head(20)"
   ]
  },
  {
   "cell_type": "code",
   "execution_count": null,
   "metadata": {},
   "outputs": [],
   "source": [
    "player_logs.sort_values([\"enthusiasm_rating\"], ascending=[False])[\n",
    "    [\"game_id\", \"player_id\", \"team_id\", \"opponent_id\", \"enthusiasm_rating\", \"pir\"]\n",
    "].head(20)"
   ]
  }
 ],
 "metadata": {
  "kernelspec": {
   "display_name": "Python 3",
   "language": "python",
   "name": "python3"
  },
  "language_info": {
   "codemirror_mode": {
    "name": "ipython",
    "version": 3
   },
   "file_extension": ".py",
   "mimetype": "text/x-python",
   "name": "python",
   "nbconvert_exporter": "python",
   "pygments_lexer": "ipython3",
   "version": "3.7.3"
  }
 },
 "nbformat": 4,
 "nbformat_minor": 2
}
