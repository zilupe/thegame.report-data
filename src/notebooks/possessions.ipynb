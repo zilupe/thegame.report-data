{
 "cells": [
  {
   "cell_type": "code",
   "execution_count": null,
   "metadata": {},
   "outputs": [],
   "source": [
    "import datetime as dt\n",
    "import functools\n",
    "from pathlib import Path\n",
    "\n",
    "import numpy as np\n",
    "import pandas as pd\n",
    "from IPython.display import display, Markdown\n"
   ]
  },
  {
   "cell_type": "code",
   "execution_count": null,
   "metadata": {},
   "outputs": [],
   "source": [
    "# Configuration\n",
    "\n",
    "raw_data_dir = Path(\"../../raw_data\")\n",
    "reports_dir = Path(\"../../reports\")\n",
    "season_id = 25\n",
    "week_date = dt.datetime(2019, 10, 31)\n",
    "season_raw_data_dir = raw_data_dir / f\"season{season_id}\"\n",
    "season_reports_dir = reports_dir / f\"season{season_id}\"\n",
    "season_box_scores_dir = raw_data_dir / f\"season{season_id}\" / \"box_scores\"\n",
    "PLAYERS_MIN_GAMES_PLAYED = 1\n",
    "\n",
    "pd.options.display.float_format = \"{:,.2f}\".format"
   ]
  },
  {
   "cell_type": "code",
   "execution_count": null,
   "metadata": {},
   "outputs": [],
   "source": [
    "# pd.set_option('display.max_columns', None)\n",
    "# pd.set_option('display.max_rows', None)\n",
    "\n",
    "possessions = pd.read_csv(season_raw_data_dir / \"possessions.csv\")\n"
   ]
  },
  {
   "cell_type": "code",
   "execution_count": null,
   "metadata": {},
   "outputs": [],
   "source": [
    "summary_rows = []\n",
    "for (game_id, team_id), group in possessions.groupby([\"game_id\", \"team_id\"]):\n",
    "    row = {\n",
    "        \"game_id\": game_id,\n",
    "        \"team_id\": team_id,\n",
    "        \"possessions\": group[\"game_id\"].size,\n",
    "        \"players_involved\": group[\"players_involved\"].mean(),\n",
    "        \"points_scored\": group[\"points_scored\"].mean(),\n",
    "        \"passes\": group[\"passes\"].mean(),\n",
    "        \"oreb\": group[\"oreb\"].mean(),\n",
    "        \"fd\": group[\"nsfd\"].mean() + group[\"sfd\"].mean(),\n",
    "        \"fta\": group[\"fta\"].mean(),\n",
    "    }\n",
    "    summary_rows.append(row)\n",
    "\n",
    "summary = pd.DataFrame(summary_rows)\n",
    "summary\n"
   ]
  }
 ],
 "metadata": {
  "kernelspec": {
   "display_name": "Python 3",
   "language": "python",
   "name": "python3"
  },
  "language_info": {
   "codemirror_mode": {
    "name": "ipython",
    "version": 3
   },
   "file_extension": ".py",
   "mimetype": "text/x-python",
   "name": "python",
   "nbconvert_exporter": "python",
   "pygments_lexer": "ipython3",
   "version": "3.7.3"
  },
  "pycharm": {
   "stem_cell": {
    "cell_type": "raw",
    "metadata": {
     "collapsed": false
    },
    "source": []
   }
  }
 },
 "nbformat": 4,
 "nbformat_minor": 2
}
