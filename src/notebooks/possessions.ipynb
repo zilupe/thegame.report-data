{
 "cells": [
  {
   "cell_type": "code",
   "execution_count": null,
   "metadata": {},
   "outputs": [],
   "source": [
    "import datetime as dt\n",
    "import functools\n",
    "from pathlib import Path\n",
    "\n",
    "import numpy as np\n",
    "import pandas as pd\n",
    "import seaborn as sns\n",
    "import matplotlib.pyplot as plt\n",
    "from IPython.display import display, Markdown\n",
    "from scipy import stats\n"
   ]
  },
  {
   "cell_type": "code",
   "execution_count": null,
   "metadata": {},
   "outputs": [],
   "source": [
    "# Configuration\n",
    "\n",
    "raw_data_dir = Path(\"../../raw_data\")\n",
    "reports_dir = Path(\"../../reports\")\n",
    "season_id = 25\n",
    "week_date = dt.datetime(2019, 10, 31)\n",
    "season_raw_data_dir = raw_data_dir / f\"season{season_id}\"\n",
    "season_reports_dir = reports_dir / f\"season{season_id}\"\n",
    "season_box_scores_dir = raw_data_dir / f\"season{season_id}\" / \"box_scores\"\n",
    "\n",
    "pd.options.display.float_format = \"{:,.2f}\".format"
   ]
  },
  {
   "cell_type": "code",
   "execution_count": null,
   "metadata": {},
   "outputs": [],
   "source": [
    "possessions = pd.read_csv(season_raw_data_dir / \"possessions.csv\")"
   ]
  },
  {
   "cell_type": "code",
   "execution_count": null,
   "metadata": {},
   "outputs": [],
   "source": [
    "player_logs_raw = pd.read_csv(season_raw_data_dir / \"player_logs.csv\")\n",
    "player_logs = player_logs_raw.groupby([\"game_id\", \"team_id\", \"player_id\"])\n",
    "\n",
    "# player_logs.get_group((\"20191017-1845-hotshots-rockets\", \"hotshots\", \"hotshots-harrison\"))[\"stl\"]"
   ]
  },
  {
   "cell_type": "code",
   "execution_count": null,
   "metadata": {},
   "outputs": [],
   "source": [
    "summary_rows = []\n",
    "for (game_id, team_id), group in possessions.groupby([\"game_id\", \"team_id\"]):\n",
    "    row = {\n",
    "        \"game_id\": game_id,\n",
    "        \"team_id\": team_id,\n",
    "        \"possessions\": group[\"game_id\"].size,\n",
    "        \"players_involved\": group[\"players_involved\"].mean(),\n",
    "        \"points_scored\": group[\"points_scored\"].mean(),\n",
    "        \"points_after_turnover\": group[\"points_after_turnover\"].mean(),\n",
    "        \"second_chance_points\": group[\"second_chance_points\"].mean(),\n",
    "        \"passes\": group[\"passes\"].mean(),\n",
    "        \"oreb\": group[\"oreb\"].mean(),\n",
    "        \"fta\": group[\"fta\"].mean(),\n",
    "    }\n",
    "    summary_rows.append(row)\n",
    "\n",
    "summary = pd.DataFrame(summary_rows)\n",
    "summary\n"
   ]
  },
  {
   "cell_type": "code",
   "execution_count": null,
   "metadata": {},
   "outputs": [],
   "source": [
    "# Possession finisher / decision maker stat.\n",
    "\n",
    "display(Markdown(\"\"\"\n",
    "\n",
    "### Possession Resolver / Decision Maker\n",
    "\n",
    "At first, the idea was to calculate how many points on average are scored in possessions \n",
    "that are ended by a particular player. If a player shoots and makes the shot,\n",
    "or shoots and the defense gets the rebound, or turns the ball over, they have effectively\n",
    "ended their team's possession. Without any weighting added, this stat is pretty interesting itself.\n",
    "It penalises turnovers and missed shots that end with defensive rebounds, but does not penalise\n",
    "missed shots that end with offensive rebounds which is usually deemed a good shooting decision.\n",
    "You can see this stat in the **points_scored** column.\n",
    "\n",
    "Then, we thought, well, if a player steals the ball and creates possessions, they should not \n",
    "be penalised for all turnovers. For example, if a player has 4 steals and 1 turnover then that\n",
    "one possession ending with a turnover should not count against the player. If, however, the player\n",
    "has 4 steals and no turnovers, they don't get any discounts. If the player has 1 steal and 4 turnovers\n",
    "then we can only discount one of their turnovers. This adjustment boosted stats for those who collect\n",
    "many steals, but since we were now rewarding steals, why not additionaly penalise those who turn the ball\n",
    "over based on how many points their turnovers cost the team? So we did.\n",
    "\n",
    "**points_conceded_after_tov** tells how many points did the opposition score in total across all \n",
    "possessions following the player's turnover.\n",
    "\n",
    "This is still not perfect. We are thinking about weighing the steals and turnovers by the number of possessions.\n",
    "\n",
    "For example 11 ended possessions out of which 4 were turnovers is probably way worse than 4 turnovers \n",
    "with 26 ended possessions.\n",
    "\n",
    "\"\"\"))\n",
    "\n",
    "filter_no_tovs = possessions[\"resolution_is_tov\"] == False\n",
    "\n",
    "summary_rows = []\n",
    "for (game_id, team_id, last_player_id), group in possessions[filter_no_tovs].groupby([\"game_id\", \"team_id\", \"last_player_id\"]):\n",
    "    player_game_stats = player_logs.get_group((game_id, team_id, last_player_id))\n",
    "\n",
    "#     # If a player has 6 steals and 2 turnovers then we can discount 2 turnovers.\n",
    "#     # If a player has 2 steals and 6 turnovers then we can discount 2 turnovers.\n",
    "#     discounted_tov_possessions = min(player_game_stats[\"tov\"].sum(), player_game_stats[\"stl\"].sum())\n",
    "    \n",
    "#     points_conceded_after_tov = group[group[\"resolution_is_tov\"]][\"opp_points_scored_next\"].sum()\n",
    "    \n",
    "    row = {\n",
    "        \"game_id\": game_id,\n",
    "        \"team_id\": team_id,\n",
    "        \"last_player_id\": last_player_id,\n",
    "        \"ended_total\": group[\"game_id\"].size,\n",
    "#         \"ended_with_tov\": group[tovs].count(),\n",
    "#         \"ended_with_tov\": group[tovs][\"group_id\"].size,\n",
    "#         \"points_scored_weighted\": (\n",
    "#             (group[\"points_scored\"].sum() - points_conceded_after_tov)\n",
    "#             /\n",
    "#             max(1.0, group[\"game_id\"].size - discounted_tov_possessions)\n",
    "#         ),\n",
    "        \"points_scored\": group[\"points_scored\"].mean(),\n",
    "        \"stl\": player_game_stats[\"stl\"].sum(),\n",
    "        \"tov\": player_game_stats[\"tov\"].sum(),\n",
    "#         \"discounted_tov_possessions\": discounted_tov_possessions,\n",
    "        \"points_conceded_after_tov\": points_conceded_after_tov,\n",
    "    }\n",
    "    summary_rows.append(row)\n",
    "\n",
    "summary = pd.DataFrame(summary_rows)\n",
    "# summary_sorted = summary.sort_values([\"points_scored_weighted\"], ascending=[False])\n",
    "summary_sorted = summary.sort_values([\"points_scored\"], ascending=[False])\n",
    "summary_sorted = summary_sorted.reset_index(drop=True)\n",
    "summary_sorted.index += 1\n",
    "summary_sorted\n"
   ]
  },
  {
   "cell_type": "code",
   "execution_count": null,
   "metadata": {},
   "outputs": [],
   "source": [
    "# # TODO: Points scored in the possessions starting with your steals\n",
    "# # TODO HeldBall not handled properly...\n",
    "# is_after_steal = possessions[\"first_event_type\"] == \"Steal\"\n",
    "# summary_rows = []\n",
    "# for (game_id, team_id, player_id), group in possessions[is_after_steal].groupby([\"game_id\", \"team_id\", \"first_on_court_player_id\"]):\n",
    "#     player_game_stats = player_logs.get_group((game_id, team_id, player_id))\n",
    "#     row = {\n",
    "#         \"player_id\": player_id,\n",
    "#         \"team_id\": team_id,\n",
    "#         \"stl\": player_game_stats[\"stl\"].sum(),\n",
    "#         \"points_scored_total\": group[\"points_scored\"].sum(),\n",
    "#         \"points_scored_avg\": group[\"points_scored\"].mean(),\n",
    "#         \"tov\": player_game_stats[\"tov\"].sum(),\n",
    "#     }\n",
    "#     summary_rows.append(row)\n",
    "\n",
    "# summary = pd.DataFrame(summary_rows)\n",
    "# min_requirements = summary[\"stl\"] > 0\n",
    "\n",
    "# summary_sorted = summary[min_requirements].sort_values([\"points_scored_avg\", \"points_scored_total\"], ascending=[False, False])\n",
    "# summary_sorted.reset_index(drop=True, inplace=True)\n",
    "# summary_sorted.index += 1\n",
    "# summary_sorted"
   ]
  },
  {
   "cell_type": "code",
   "execution_count": null,
   "metadata": {},
   "outputs": [],
   "source": [
    "# # TODO: Points scored in the possessions starting with your steals\n",
    "# # TODO HeldBall not handled properly...\n",
    "# is_after_steal = possessions[\"first_event_type\"] == \"Steal\"\n",
    "# summary_rows = []\n",
    "# for (game_id, team_id, player_id), group in possessions[is_after_steal].groupby([\"game_id\", \"team_id\", \"first_on_court_player_id\"]):\n",
    "#     player_game_stats = player_logs.get_group((game_id, team_id, player_id))\n",
    "#     row = {\n",
    "#         \"player_id\": player_id,\n",
    "#         \"team_id\": team_id,\n",
    "#         \"stl\": player_game_stats[\"stl\"].sum(),\n",
    "#         \"points_scored_total\": group[\"points_scored\"].sum(),\n",
    "#         \"points_scored_avg\": group[\"points_scored\"].mean(),\n",
    "#         \"tov\": player_game_stats[\"tov\"].sum(),\n",
    "#     }\n",
    "#     summary_rows.append(row)\n",
    "\n",
    "# summary = pd.DataFrame(summary_rows)\n",
    "# min_requirements = summary[\"stl\"] > 0\n",
    "\n",
    "# summary_sorted = summary[min_requirements].sort_values([\"points_scored_avg\", \"points_scored_total\"], ascending=[False, False])\n",
    "# summary_sorted.reset_index(drop=True, inplace=True)\n",
    "# summary_sorted.index += 1\n",
    "# summary_sorted"
   ]
  }
 ],
 "metadata": {
  "kernelspec": {
   "display_name": "Python 3",
   "language": "python",
   "name": "python3"
  },
  "language_info": {
   "codemirror_mode": {
    "name": "ipython",
    "version": 3
   },
   "file_extension": ".py",
   "mimetype": "text/x-python",
   "name": "python",
   "nbconvert_exporter": "python",
   "pygments_lexer": "ipython3",
   "version": "3.7.3"
  },
  "pycharm": {
   "stem_cell": {
    "cell_type": "raw",
    "metadata": {
     "collapsed": false
    },
    "source": []
   }
  }
 },
 "nbformat": 4,
 "nbformat_minor": 2
}
