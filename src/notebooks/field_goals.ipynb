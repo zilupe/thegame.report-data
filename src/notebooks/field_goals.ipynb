{
 "cells": [
  {
   "cell_type": "code",
   "execution_count": null,
   "metadata": {},
   "outputs": [],
   "source": [
    "import datetime as dt\n",
    "import functools\n",
    "from pathlib import Path\n",
    "\n",
    "import numpy as np\n",
    "import pandas as pd\n",
    "import seaborn as sns\n",
    "import matplotlib.pyplot as plt\n",
    "from IPython.display import display, Markdown\n",
    "from scipy import stats\n"
   ]
  },
  {
   "cell_type": "code",
   "execution_count": null,
   "metadata": {},
   "outputs": [],
   "source": [
    "# Configuration\n",
    "\n",
    "raw_data_dir = Path(\"../../raw_data\")\n",
    "reports_dir = Path(\"../../reports\")\n",
    "season_id = 25\n",
    "week_date = dt.datetime(2019, 10, 31)\n",
    "season_raw_data_dir = raw_data_dir / f\"season{season_id}\"\n",
    "season_reports_dir = reports_dir / f\"season{season_id}\"\n",
    "season_box_scores_dir = raw_data_dir / f\"season{season_id}\" / \"box_scores\"\n",
    "\n",
    "pd.options.display.float_format = \"{:,.2f}\".format"
   ]
  },
  {
   "cell_type": "code",
   "execution_count": null,
   "metadata": {},
   "outputs": [],
   "source": [
    "field_goals = pd.read_csv(season_raw_data_dir / \"field_goals.csv\")\n",
    "# field_goals.head(5)"
   ]
  },
  {
   "cell_type": "code",
   "execution_count": null,
   "metadata": {},
   "outputs": [],
   "source": [
    "player_logs_raw = pd.read_csv(season_raw_data_dir / \"player_logs.csv\")\n",
    "player_logs = player_logs_raw.groupby([\"game_id\", \"team_id\", \"player_id\"])\n",
    "\n",
    "# player_logs.get_group((\"20191017-1845-hotshots-rockets\", \"hotshots\", \"hotshots-harrison\"))[\"stl\"]"
   ]
  },
  {
   "cell_type": "code",
   "execution_count": null,
   "metadata": {},
   "outputs": [],
   "source": [
    "\"\"\"\n",
    "true_fga includes fouled shots, but does not include free throw attempts.\n",
    "points_scored includes points scored with free throws.\n",
    "points_scored_weighed discounts missed shots which result in an offensive rebound.\n",
    "\"\"\"\n",
    "\n",
    "\n",
    "summary_rows = []\n",
    "for (game_id, team_id, player_id), group in field_goals.groupby([\"game_id\", \"team_id\", \"player_id\"]):\n",
    "    is_dreb = (group[\"points_scored\"] == 0) & (group[\"outcome\"] == \"DefensiveRebound\")\n",
    "    is_oreb = (group[\"points_scored\"] == 0) & (group[\"outcome\"] == \"OffensiveRebound\")\n",
    "    true_fga = len(group.index)\n",
    "    true_fg_missed = len(group[is_dreb | is_oreb].index)\n",
    "    num_miss_and_oreb = len(group[is_oreb].index)\n",
    "    num_miss_and_dreb = len(group[is_dreb].index)\n",
    "    row = {\n",
    "        \"game_id\": game_id,\n",
    "        \"team_id\": team_id,\n",
    "        \"player_id\": player_id,\n",
    "        \"points_scored_total\": group[\"points_scored\"].sum(),\n",
    "        \"true_fga\": true_fga,\n",
    "        \"points_scored\": group[\"points_scored\"].mean(),\n",
    "        \"points_scored_weighed\": group[\"points_scored\"].sum() / (true_fga - num_miss_and_oreb) if group[\"points_scored\"].sum() else 0,\n",
    "        \"miss_and_oreb\": len(group[is_oreb].index) / true_fg_missed if true_fg_missed else 0,\n",
    "        \"miss_and_dreb\": len(group[is_dreb].index) / true_fg_missed if true_fg_missed else 0,\n",
    "        \n",
    "    }\n",
    "    summary_rows.append(row)\n",
    "\n",
    "summary = pd.DataFrame(summary_rows)\n",
    "summary_sorted = summary.sort_values([\"points_scored_weighed\", \"miss_and_oreb\", \"true_fga\"], ascending=[False, False, True])\n",
    "summary_sorted.reset_index(drop=True, inplace=True)\n",
    "summary_sorted.index += 1\n",
    "summary_sorted\n"
   ]
  }
 ],
 "metadata": {
  "kernelspec": {
   "display_name": "Python 3",
   "language": "python",
   "name": "python3"
  },
  "language_info": {
   "codemirror_mode": {
    "name": "ipython",
    "version": 3
   },
   "file_extension": ".py",
   "mimetype": "text/x-python",
   "name": "python",
   "nbconvert_exporter": "python",
   "pygments_lexer": "ipython3",
   "version": "3.7.3"
  },
  "pycharm": {
   "stem_cell": {
    "cell_type": "raw",
    "metadata": {
     "collapsed": false
    },
    "source": []
   }
  }
 },
 "nbformat": 4,
 "nbformat_minor": 2
}
